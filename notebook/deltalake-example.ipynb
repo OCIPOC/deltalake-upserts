{
 "cells": [
  {
   "cell_type": "code",
   "execution_count": 1,
   "id": "9fb7771e-5e8a-4cf6-be48-2233301527cf",
   "metadata": {
    "pycharm": {
     "is_executing": true
    }
   },
   "outputs": [],
   "source": [
    "from pyspark.sql import (\n",
    "    SparkSession,\n",
    "    DataFrame\n",
    ")"
   ]
  },
  {
   "cell_type": "code",
   "execution_count": 2,
   "id": "ef1fbbb1-8573-4273-95e8-c1750f970e87",
   "metadata": {
    "pycharm": {
     "is_executing": true
    }
   },
   "outputs": [
    {
     "name": "stderr",
     "output_type": "stream",
     "text": [
      "21/11/19 07:25:08 WARN Utils: Your hostname, Carloss-MacBook-Air.local resolves to a loopback address: 127.0.0.1; using 192.168.15.8 instead (on interface en0)\n",
      "21/11/19 07:25:08 WARN Utils: Set SPARK_LOCAL_IP if you need to bind to another address\n"
     ]
    },
    {
     "name": "stdout",
     "output_type": "stream",
     "text": [
      ":: loading settings :: url = jar:file:/Users/carlosbarbosa/opt/miniconda3/lib/python3.9/site-packages/pyspark/jars/ivy-2.4.0.jar!/org/apache/ivy/core/settings/ivysettings.xml\n"
     ]
    },
    {
     "name": "stderr",
     "output_type": "stream",
     "text": [
      "Ivy Default Cache set to: /Users/carlosbarbosa/.ivy2/cache\n",
      "The jars for the packages stored in: /Users/carlosbarbosa/.ivy2/jars\n",
      "io.delta#delta-core_2.12 added as a dependency\n",
      ":: resolving dependencies :: org.apache.spark#spark-submit-parent-24c5b329-32e8-4317-bdff-68976d5f6675;1.0\n",
      "\tconfs: [default]\n",
      "\tfound io.delta#delta-core_2.12;1.0.0 in central\n",
      "\tfound org.antlr#antlr4;4.7 in central\n",
      "\tfound org.antlr#antlr4-runtime;4.7 in central\n",
      "\tfound org.antlr#antlr-runtime;3.5.2 in central\n",
      "\tfound org.antlr#ST4;4.0.8 in central\n",
      "\tfound org.abego.treelayout#org.abego.treelayout.core;1.0.3 in central\n",
      "\tfound org.glassfish#javax.json;1.0.4 in central\n",
      "\tfound com.ibm.icu#icu4j;58.2 in central\n",
      ":: resolution report :: resolve 585ms :: artifacts dl 26ms\n",
      "\t:: modules in use:\n",
      "\tcom.ibm.icu#icu4j;58.2 from central in [default]\n",
      "\tio.delta#delta-core_2.12;1.0.0 from central in [default]\n",
      "\torg.abego.treelayout#org.abego.treelayout.core;1.0.3 from central in [default]\n",
      "\torg.antlr#ST4;4.0.8 from central in [default]\n",
      "\torg.antlr#antlr-runtime;3.5.2 from central in [default]\n",
      "\torg.antlr#antlr4;4.7 from central in [default]\n",
      "\torg.antlr#antlr4-runtime;4.7 from central in [default]\n",
      "\torg.glassfish#javax.json;1.0.4 from central in [default]\n",
      "\t---------------------------------------------------------------------\n",
      "\t|                  |            modules            ||   artifacts   |\n",
      "\t|       conf       | number| search|dwnlded|evicted|| number|dwnlded|\n",
      "\t---------------------------------------------------------------------\n",
      "\t|      default     |   8   |   0   |   0   |   0   ||   8   |   0   |\n",
      "\t---------------------------------------------------------------------\n",
      ":: retrieving :: org.apache.spark#spark-submit-parent-24c5b329-32e8-4317-bdff-68976d5f6675\n",
      "\tconfs: [default]\n",
      "\t0 artifacts copied, 8 already retrieved (0kB/20ms)\n",
      "21/11/19 07:25:10 WARN NativeCodeLoader: Unable to load native-hadoop library for your platform... using builtin-java classes where applicable\n",
      "Using Spark's default log4j profile: org/apache/spark/log4j-defaults.properties\n",
      "Setting default log level to \"WARN\".\n",
      "To adjust logging level use sc.setLogLevel(newLevel). For SparkR, use setLogLevel(newLevel).\n"
     ]
    }
   ],
   "source": [
    "spark = (\n",
    "    SparkSession\n",
    "        .builder\n",
    "        .appName(\"Delta Lake\")\n",
    "        .config(\"spark.jars.packages\", \"io.delta:delta-core_2.12:1.0.0\")\n",
    "        .config(\"spark.sql.extensions\", \"io.delta.sql.DeltaSparkSessionExtension\")\n",
    "        .config(\"spark.sql.catalog.spark_catalog\", \"org.apache.spark.sql.delta.catalog.DeltaCatalog\")\n",
    "        .getOrCreate()\n",
    "\n",
    ")"
   ]
  },
  {
   "cell_type": "code",
   "execution_count": 3,
   "id": "5a581437",
   "metadata": {
    "pycharm": {
     "is_executing": true,
     "name": "#%%\n"
    }
   },
   "outputs": [
    {
     "data": {
      "text/plain": [
       "[('spark.ui.showConsoleProgress', 'true'),\n",
       " ('spark.driver.port', '50975'),\n",
       " ('spark.submit.pyFiles',\n",
       "  '/Users/carlosbarbosa/.ivy2/jars/io.delta_delta-core_2.12-1.0.0.jar,/Users/carlosbarbosa/.ivy2/jars/org.antlr_antlr4-4.7.jar,/Users/carlosbarbosa/.ivy2/jars/org.antlr_antlr4-runtime-4.7.jar,/Users/carlosbarbosa/.ivy2/jars/org.antlr_antlr-runtime-3.5.2.jar,/Users/carlosbarbosa/.ivy2/jars/org.antlr_ST4-4.0.8.jar,/Users/carlosbarbosa/.ivy2/jars/org.abego.treelayout_org.abego.treelayout.core-1.0.3.jar,/Users/carlosbarbosa/.ivy2/jars/org.glassfish_javax.json-1.0.4.jar,/Users/carlosbarbosa/.ivy2/jars/com.ibm.icu_icu4j-58.2.jar'),\n",
       " ('spark.sql.warehouse.dir',\n",
       "  'file:/Users/carlosbarbosa/Desktop/deltalake-upserts/notebook/spark-warehouse'),\n",
       " ('spark.app.initial.file.urls',\n",
       "  'file:///Users/carlosbarbosa/.ivy2/jars/org.antlr_antlr4-runtime-4.7.jar,file:///Users/carlosbarbosa/.ivy2/jars/org.glassfish_javax.json-1.0.4.jar,file:///Users/carlosbarbosa/.ivy2/jars/org.antlr_antlr4-4.7.jar,file:///Users/carlosbarbosa/.ivy2/jars/org.antlr_antlr-runtime-3.5.2.jar,file:///Users/carlosbarbosa/.ivy2/jars/org.antlr_ST4-4.0.8.jar,file:///Users/carlosbarbosa/.ivy2/jars/com.ibm.icu_icu4j-58.2.jar,file:///Users/carlosbarbosa/.ivy2/jars/io.delta_delta-core_2.12-1.0.0.jar,file:///Users/carlosbarbosa/.ivy2/jars/org.abego.treelayout_org.abego.treelayout.core-1.0.3.jar'),\n",
       " ('spark.app.name', 'Delta Lake'),\n",
       " ('spark.executor.id', 'driver'),\n",
       " ('spark.repl.local.jars',\n",
       "  'file:///Users/carlosbarbosa/.ivy2/jars/io.delta_delta-core_2.12-1.0.0.jar,file:///Users/carlosbarbosa/.ivy2/jars/org.antlr_antlr4-4.7.jar,file:///Users/carlosbarbosa/.ivy2/jars/org.antlr_antlr4-runtime-4.7.jar,file:///Users/carlosbarbosa/.ivy2/jars/org.antlr_antlr-runtime-3.5.2.jar,file:///Users/carlosbarbosa/.ivy2/jars/org.antlr_ST4-4.0.8.jar,file:///Users/carlosbarbosa/.ivy2/jars/org.abego.treelayout_org.abego.treelayout.core-1.0.3.jar,file:///Users/carlosbarbosa/.ivy2/jars/org.glassfish_javax.json-1.0.4.jar,file:///Users/carlosbarbosa/.ivy2/jars/com.ibm.icu_icu4j-58.2.jar'),\n",
       " ('spark.files',\n",
       "  'file:///Users/carlosbarbosa/.ivy2/jars/io.delta_delta-core_2.12-1.0.0.jar,file:///Users/carlosbarbosa/.ivy2/jars/org.antlr_antlr4-4.7.jar,file:///Users/carlosbarbosa/.ivy2/jars/org.antlr_antlr4-runtime-4.7.jar,file:///Users/carlosbarbosa/.ivy2/jars/org.antlr_antlr-runtime-3.5.2.jar,file:///Users/carlosbarbosa/.ivy2/jars/org.antlr_ST4-4.0.8.jar,file:///Users/carlosbarbosa/.ivy2/jars/org.abego.treelayout_org.abego.treelayout.core-1.0.3.jar,file:///Users/carlosbarbosa/.ivy2/jars/org.glassfish_javax.json-1.0.4.jar,file:///Users/carlosbarbosa/.ivy2/jars/com.ibm.icu_icu4j-58.2.jar'),\n",
       " ('spark.sql.extensions', 'io.delta.sql.DeltaSparkSessionExtension'),\n",
       " ('spark.rdd.compress', 'True'),\n",
       " ('spark.app.startTime', '1637317511058'),\n",
       " ('spark.serializer.objectStreamReset', '100'),\n",
       " ('spark.master', 'local[*]'),\n",
       " ('spark.jars',\n",
       "  'file:///Users/carlosbarbosa/.ivy2/jars/io.delta_delta-core_2.12-1.0.0.jar,file:///Users/carlosbarbosa/.ivy2/jars/org.antlr_antlr4-4.7.jar,file:///Users/carlosbarbosa/.ivy2/jars/org.antlr_antlr4-runtime-4.7.jar,file:///Users/carlosbarbosa/.ivy2/jars/org.antlr_antlr-runtime-3.5.2.jar,file:///Users/carlosbarbosa/.ivy2/jars/org.antlr_ST4-4.0.8.jar,file:///Users/carlosbarbosa/.ivy2/jars/org.abego.treelayout_org.abego.treelayout.core-1.0.3.jar,file:///Users/carlosbarbosa/.ivy2/jars/org.glassfish_javax.json-1.0.4.jar,file:///Users/carlosbarbosa/.ivy2/jars/com.ibm.icu_icu4j-58.2.jar'),\n",
       " ('spark.submit.deployMode', 'client'),\n",
       " ('spark.driver.host', '192.168.15.8'),\n",
       " ('spark.app.initial.jar.urls',\n",
       "  'spark://192.168.15.8:50975/jars/org.antlr_antlr4-runtime-4.7.jar,spark://192.168.15.8:50975/jars/org.abego.treelayout_org.abego.treelayout.core-1.0.3.jar,spark://192.168.15.8:50975/jars/io.delta_delta-core_2.12-1.0.0.jar,spark://192.168.15.8:50975/jars/org.antlr_ST4-4.0.8.jar,spark://192.168.15.8:50975/jars/org.antlr_antlr4-4.7.jar,spark://192.168.15.8:50975/jars/com.ibm.icu_icu4j-58.2.jar,spark://192.168.15.8:50975/jars/org.glassfish_javax.json-1.0.4.jar,spark://192.168.15.8:50975/jars/org.antlr_antlr-runtime-3.5.2.jar'),\n",
       " ('spark.jars.packages', 'io.delta:delta-core_2.12:1.0.0'),\n",
       " ('spark.sql.catalog.spark_catalog',\n",
       "  'org.apache.spark.sql.delta.catalog.DeltaCatalog'),\n",
       " ('spark.app.id', 'local-1637317512321')]"
      ]
     },
     "execution_count": 3,
     "metadata": {},
     "output_type": "execute_result"
    }
   ],
   "source": [
    "spark.sparkContext.getConf().getAll()"
   ]
  },
  {
   "cell_type": "code",
   "execution_count": 4,
   "id": "67b3bfea-2e86-42fd-9ec1-149686a8992b",
   "metadata": {
    "pycharm": {
     "is_executing": true
    }
   },
   "outputs": [],
   "source": [
    "def read_data(source_path: str, format_file: str) -> DataFrame:\n",
    "        if format_file == \"json\":\n",
    "            return spark.read.format(format_file).option(\"inferSchema\", True).load(source_path)\n",
    "        elif format_file == \"csv\":\n",
    "            return spark.read.format(format_file).option(\"header\", True).load(source_path)\n",
    "        elif format_file == \"parquet\":\n",
    "            return spark.read.format(format_file).load(source_path)"
   ]
  },
  {
   "cell_type": "code",
   "execution_count": 11,
   "id": "e788274d-421d-47a9-911d-3ba9813b7609",
   "metadata": {
    "pycharm": {
     "is_executing": true
    }
   },
   "outputs": [],
   "source": [
    "def write_data(df: DataFrame, destiny_path: str, format_file: str, write_delta_mode= \"overwrite\"):\n",
    "    df.write.mode(write_delta_mode).format(format_file).save(destiny_path)"
   ]
  },
  {
   "cell_type": "markdown",
   "id": "da751193-fba8-4b3a-8afe-930ab4525390",
   "metadata": {},
   "source": [
    "## Lendo os dados da Landing [Users]"
   ]
  },
  {
   "cell_type": "code",
   "execution_count": 6,
   "id": "1389874f-0f86-4cd7-8479-9b659e25cada",
   "metadata": {
    "pycharm": {
     "is_executing": true
    }
   },
   "outputs": [
    {
     "name": "stderr",
     "output_type": "stream",
     "text": [
      "                                                                                \r"
     ]
    }
   ],
   "source": [
    "df = read_data(\"../landing/user\", \"json\")"
   ]
  },
  {
   "cell_type": "markdown",
   "id": "fc322375-e51c-4aa5-ab6d-c6a19132526d",
   "metadata": {},
   "source": [
    "- Limitando as colunas para facilitar na visualização"
   ]
  },
  {
   "cell_type": "code",
   "execution_count": 7,
   "id": "18bdbd0a-1c67-4d5c-88ac-f09113511ed4",
   "metadata": {},
   "outputs": [],
   "source": [
    "df = df.select(\"user_id\",\"email\")"
   ]
  },
  {
   "cell_type": "markdown",
   "id": "adb4ca2b-d02d-40d1-8aa6-543a223f0e1e",
   "metadata": {},
   "source": [
    "- Verificando se as colunas estão corretas"
   ]
  },
  {
   "cell_type": "code",
   "execution_count": 8,
   "id": "24017b54-f896-4e5e-a519-8f176268cb4b",
   "metadata": {},
   "outputs": [
    {
     "data": {
      "text/plain": [
       "DataFrame[user_id: bigint, email: string]"
      ]
     },
     "execution_count": 8,
     "metadata": {},
     "output_type": "execute_result"
    }
   ],
   "source": [
    "df"
   ]
  },
  {
   "cell_type": "markdown",
   "id": "5f51bf11-c3c9-4c04-a120-a71e7905c298",
   "metadata": {},
   "source": [
    "- Escrevendo os dados em formato delta com mode append"
   ]
  },
  {
   "cell_type": "code",
   "execution_count": 12,
   "id": "3f59ce55-f724-4496-b376-6b1b62ca1508",
   "metadata": {},
   "outputs": [
    {
     "name": "stderr",
     "output_type": "stream",
     "text": [
      "                                                                                \r"
     ]
    }
   ],
   "source": [
    "write_data(df, \"../delta/bronze/user\", \"delta\")"
   ]
  },
  {
   "cell_type": "markdown",
   "id": "30c7084b-cab3-4d8d-9c19-03eed7102bff",
   "metadata": {},
   "source": [
    "## Cria novos dados para realização de Upserts"
   ]
  },
  {
   "cell_type": "markdown",
   "id": "dac79137-d1e0-4beb-b681-ee58a47ee9a7",
   "metadata": {},
   "source": [
    "- Obs: os Ids 1703 e 3650, existem no DataFrame lido diretamente da landing. O objetivo disso é que esses são os user_id que vão ter o email modificado"
   ]
  },
  {
   "cell_type": "code",
   "execution_count": 13,
   "id": "bee883d1-e175-4f57-8c69-879206c81e2d",
   "metadata": {},
   "outputs": [],
   "source": [
    "items = [(\"1703\",\"fulano@gmail.com\"), (\"3650\", \"fulano2@gmail.com\")]"
   ]
  },
  {
   "cell_type": "markdown",
   "id": "df0af1c2-2ff9-49b2-aa5c-48ceb69d6c21",
   "metadata": {},
   "source": [
    "- Herdando schema do DataFrame chamado na landing"
   ]
  },
  {
   "cell_type": "code",
   "execution_count": 14,
   "id": "a9c2c535-75c6-4b67-b703-cb3a7cedd042",
   "metadata": {},
   "outputs": [
    {
     "data": {
      "text/plain": [
       "['user_id', 'email']"
      ]
     },
     "execution_count": 14,
     "metadata": {},
     "output_type": "execute_result"
    }
   ],
   "source": [
    "cols = df.columns\n",
    "cols"
   ]
  },
  {
   "cell_type": "markdown",
   "id": "45ff363e-9ed9-43a8-9812-00d5a6cd8111",
   "metadata": {},
   "source": [
    "- Criando DataFrame a partir dos items e cols"
   ]
  },
  {
   "cell_type": "code",
   "execution_count": 16,
   "id": "faf0fca5-e26c-42b9-af11-eb01963b0635",
   "metadata": {},
   "outputs": [
    {
     "name": "stderr",
     "output_type": "stream",
     "text": [
      "\r",
      "[Stage 11:>                                                         (0 + 1) / 1]\r",
      "\r",
      "                                                                                \r"
     ]
    },
    {
     "name": "stdout",
     "output_type": "stream",
     "text": [
      "+-------+-----------------+\n",
      "|user_id|            email|\n",
      "+-------+-----------------+\n",
      "|   1703| fulano@gmail.com|\n",
      "|   3650|fulano2@gmail.com|\n",
      "+-------+-----------------+\n",
      "\n"
     ]
    }
   ],
   "source": [
    "merge_table = spark.createDataFrame(items, cols)\n",
    "merge_table.show()"
   ]
  },
  {
   "cell_type": "markdown",
   "id": "81da830d-ec7c-4cd1-bf2f-22903bab10c5",
   "metadata": {},
   "source": [
    "## Importando lib para acessar métodos do Delta"
   ]
  },
  {
   "cell_type": "code",
   "execution_count": 17,
   "id": "f6197b0e-8662-476f-b548-28ebb875a54a",
   "metadata": {},
   "outputs": [],
   "source": [
    "from delta.tables import *"
   ]
  },
  {
   "cell_type": "markdown",
   "id": "3bc452ee-c3b2-4ff4-b2be-9a8db821fc49",
   "metadata": {},
   "source": [
    "- Seleciona usuários que irão sofrer Updates"
   ]
  },
  {
   "cell_type": "code",
   "execution_count": 18,
   "id": "048661c6-eafd-4a0d-a79f-2b6253602594",
   "metadata": {},
   "outputs": [
    {
     "name": "stdout",
     "output_type": "stream",
     "text": [
      "+-------+-----------------------+\n",
      "|user_id|email                  |\n",
      "+-------+-----------------------+\n",
      "|1703   |daron.bailey@email.com |\n",
      "|3650   |jonah.barrows@email.com|\n",
      "+-------+-----------------------+\n",
      "\n"
     ]
    }
   ],
   "source": [
    "# DataFrame que vai sofrer atualização nos user_id (1703, 3650)\n",
    "df.where(\"user_id in (1703, 3650)\").show(truncate=False)"
   ]
  },
  {
   "cell_type": "code",
   "execution_count": 19,
   "id": "ef8a839c-c050-48bc-a02b-7bc2a87173b2",
   "metadata": {},
   "outputs": [
    {
     "name": "stdout",
     "output_type": "stream",
     "text": [
      "+-------+-----------------+\n",
      "|user_id|email            |\n",
      "+-------+-----------------+\n",
      "|1703   |fulano@gmail.com |\n",
      "|3650   |fulano2@gmail.com|\n",
      "+-------+-----------------+\n",
      "\n"
     ]
    }
   ],
   "source": [
    "# Dados que irão atualizar o DataFrame acima\n",
    "merge_table.show(truncate=False)"
   ]
  },
  {
   "cell_type": "code",
   "execution_count": 20,
   "id": "cd676d35-afae-403d-86f1-cff283070aa6",
   "metadata": {},
   "outputs": [],
   "source": [
    "# Acessa a Tabela Delta Lake\n",
    "deltaTable = DeltaTable.forPath(spark, \"../delta/bronze/user\")"
   ]
  },
  {
   "cell_type": "code",
   "execution_count": 22,
   "id": "d197fc07-ff85-4816-91a7-82ccf373299e",
   "metadata": {},
   "outputs": [
    {
     "name": "stdout",
     "output_type": "stream",
     "text": [
      "-RECORD 0-----------------------------------\n",
      " version             | 1                    \n",
      " timestamp           | 2021-11-19 07:26:... \n",
      " userId              | null                 \n",
      " userName            | null                 \n",
      " operation           | WRITE                \n",
      " operationParameters | {mode -> Overwrit... \n",
      " job                 | null                 \n",
      " notebook            | null                 \n",
      " clusterId           | null                 \n",
      " readVersion         | 0                    \n",
      " isolationLevel      | null                 \n",
      " isBlindAppend       | false                \n",
      " operationMetrics    | {numFiles -> 6, n... \n",
      " userMetadata        | null                 \n",
      "-RECORD 1-----------------------------------\n",
      " version             | 0                    \n",
      " timestamp           | 2021-11-19 07:26:... \n",
      " userId              | null                 \n",
      " userName            | null                 \n",
      " operation           | WRITE                \n",
      " operationParameters | {mode -> Overwrit... \n",
      " job                 | null                 \n",
      " notebook            | null                 \n",
      " clusterId           | null                 \n",
      " readVersion         | null                 \n",
      " isolationLevel      | null                 \n",
      " isBlindAppend       | false                \n",
      " operationMetrics    | {numFiles -> 6, n... \n",
      " userMetadata        | null                 \n",
      "\n"
     ]
    }
   ],
   "source": [
    "# Acessando os metadados das operações realizados no Delta Lake\n",
    "deltaTable.history().show(vertical=True)"
   ]
  },
  {
   "cell_type": "markdown",
   "id": "e94cec7f-f25e-4bfc-b8a3-06ee5352c120",
   "metadata": {},
   "source": [
    "- Realização do Merge no qual atualizamos o campo email para os user_id (1703, 3650)"
   ]
  },
  {
   "cell_type": "code",
   "execution_count": 23,
   "id": "f8eef6e1-2180-468f-9d69-6b79c809e260",
   "metadata": {},
   "outputs": [
    {
     "name": "stderr",
     "output_type": "stream",
     "text": [
      "21/11/19 07:27:47 WARN MemoryManager: Total allocation exceeds 95.00% (906,992,014 bytes) of heap memory\n",
      "Scaling row group sizes to 96.54% for 7 writers\n",
      "21/11/19 07:27:48 WARN MemoryManager: Total allocation exceeds 95.00% (906,992,014 bytes) of heap memory\n",
      "Scaling row group sizes to 96.54% for 7 writers\n",
      "21/11/19 07:27:48 WARN MemoryManager: Total allocation exceeds 95.00% (906,992,014 bytes) of heap memory\n",
      "Scaling row group sizes to 96.54% for 7 writers\n",
      "                                                                                \r"
     ]
    }
   ],
   "source": [
    "deltaTable.alias(\"deltaTable\") \\\n",
    "    .merge(merge_table.alias(\"updates\"),\"deltaTable.user_id = updates.user_id\") \\\n",
    "    .whenMatchedUpdateAll(condition = \"deltaTable.user_id = updates.user_id\" ) \\\n",
    "    .whenNotMatchedInsertAll() \\\n",
    "    .execute()"
   ]
  },
  {
   "cell_type": "code",
   "execution_count": 24,
   "id": "da0f6f64-7f36-46e0-9023-825a5e272d9c",
   "metadata": {},
   "outputs": [],
   "source": [
    "# Convertemos a Delta Table para Dataframe para visualizar a modificação\n",
    "delta = deltaTable.toDF()"
   ]
  },
  {
   "cell_type": "markdown",
   "id": "dc00789e-25eb-4f73-a565-1432ac324ea5",
   "metadata": {},
   "source": [
    "- Verificamos a mudança dos emails para os usuários."
   ]
  },
  {
   "cell_type": "code",
   "execution_count": 25,
   "id": "72c83c17-6c40-4333-812c-0e63ed7db404",
   "metadata": {},
   "outputs": [
    {
     "name": "stdout",
     "output_type": "stream",
     "text": [
      "+-------+-----------------+\n",
      "|user_id|email            |\n",
      "+-------+-----------------+\n",
      "|1703   |fulano@gmail.com |\n",
      "|3650   |fulano2@gmail.com|\n",
      "+-------+-----------------+\n",
      "\n"
     ]
    }
   ],
   "source": [
    "delta.where(\"user_id in (1703, 3650)\").show(truncate=False)"
   ]
  },
  {
   "cell_type": "code",
   "execution_count": 26,
   "id": "187eca24-0997-49ad-86a0-a8a8c8d9f4d8",
   "metadata": {},
   "outputs": [
    {
     "name": "stdout",
     "output_type": "stream",
     "text": [
      "+-------+--------------------+\n",
      "|user_id|               email|\n",
      "+-------+--------------------+\n",
      "|   3395|marcos.collier@em...|\n",
      "|   1556|elina.hills@email...|\n",
      "|   1879|enedina.schroeder...|\n",
      "|   7805|colin.ryan@email.com|\n",
      "|   3982|dallas.boyle@emai...|\n",
      "|   7274|grover.towne@emai...|\n",
      "|   3184|dexter.schmitt@em...|\n",
      "|    550|novella.weber@ema...|\n",
      "|   8365|lesley.mccullough...|\n",
      "|   4942|marti.marks@email...|\n",
      "|   8327|shawnna.keebler@e...|\n",
      "|   9464|guillermo.beahan@...|\n",
      "|   4123|sid.bechtelar@ema...|\n",
      "|   2281|merrill.upton@ema...|\n",
      "|   6998|felipe.ward@email...|\n",
      "|   7440|willie.walsh@emai...|\n",
      "|   8397|jae.krajcik@email...|\n",
      "|   9437|wilfredo.bailey@e...|\n",
      "|   3148|josefa.marvin@ema...|\n",
      "|   2535|loyd.hintz@email.com|\n",
      "+-------+--------------------+\n",
      "only showing top 20 rows\n",
      "\n"
     ]
    }
   ],
   "source": [
    "# Exibindo dados completos\n",
    "delta.show()"
   ]
  }
 ],
 "metadata": {
  "kernelspec": {
   "display_name": "Python 3 (ipykernel)",
   "language": "python",
   "name": "python3"
  },
  "language_info": {
   "codemirror_mode": {
    "name": "ipython",
    "version": 3
   },
   "file_extension": ".py",
   "mimetype": "text/x-python",
   "name": "python",
   "nbconvert_exporter": "python",
   "pygments_lexer": "ipython3",
   "version": "3.9.5"
  }
 },
 "nbformat": 4,
 "nbformat_minor": 5
}
