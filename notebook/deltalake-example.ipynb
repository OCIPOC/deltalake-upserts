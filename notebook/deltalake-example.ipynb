{
 "cells": [
  {
   "cell_type": "code",
   "execution_count": 1,
   "id": "0ee64d03-cdcf-49b3-9441-970634e6a24e",
   "metadata": {},
   "outputs": [
    {
     "name": "stdout",
     "output_type": "stream",
     "text": [
      "Welcome to\n",
      "      ____              __\n",
      "     / __/__  ___ _____/ /__\n",
      "    _\\ \\/ _ \\/ _ `/ __/  '_/\n",
      "   /___/ .__/\\_,_/_/ /_/\\_\\   version 3.1.2\n",
      "      /_/\n",
      "                        \n",
      "Using Scala version 2.12.10, OpenJDK 64-Bit Server VM, 1.8.0_292\n",
      "Branch HEAD\n",
      "Compiled by user centos on 2021-05-24T04:27:48Z\n",
      "Revision de351e30a90dd988b133b3d00fa6218bfcaba8b8\n",
      "Url https://github.com/apache/spark\n",
      "Type --help for more information.\n"
     ]
    }
   ],
   "source": [
    "!pyspark --version"
   ]
  },
  {
   "cell_type": "code",
   "execution_count": 59,
   "id": "9fb7771e-5e8a-4cf6-be48-2233301527cf",
   "metadata": {},
   "outputs": [],
   "source": [
    "import pyspark\n",
    "from pyspark.sql import SparkSession\n",
    "from pyspark.sql.functions import DataFrame"
   ]
  },
  {
   "cell_type": "code",
   "execution_count": 60,
   "id": "ef1fbbb1-8573-4273-95e8-c1750f970e87",
   "metadata": {},
   "outputs": [],
   "source": [
    "spark = pyspark.sql.SparkSession.builder.appName(\"Pyspark - Deltalake\")\\\n",
    "    .config(\"spark.jars.packages\", \"io.delta:delta-core_2.12:1.0.0\")\\\n",
    "    .config(\"spark.sql.extensions\", \"io.delta.sql.DeltaSparkSessionExtension\")\\\n",
    "    .config(\"spark.sql.catalog.spark_catalog\", \"org.apache.spark.sql.delta.catalog.DeltaCatalog\")\\\n",
    "    .config(\"spark.sql.repl.eagerEval.maxNumRows\", 5)\\\n",
    "    .config(\"spark.sql.repl.eagerEval.enabled\", True)\\\n",
    "    .getOrCreate()"
   ]
  },
  {
   "cell_type": "code",
   "execution_count": 61,
   "id": "67b3bfea-2e86-42fd-9ec1-149686a8992b",
   "metadata": {},
   "outputs": [],
   "source": [
    "def read_data(path: str, format: str) -> DataFrame:\n",
    "        \"\"\"[Read data on local path]\n",
    "\n",
    "        Args:\n",
    "            path (str): [data location path]\n",
    "\n",
    "        Returns:\n",
    "            DataFrame: [Dataframe with data]\n",
    "        \"\"\"        \n",
    "        df = spark.read.format(format)\\\n",
    "            .option(\"inferSchema\", \"true\")\\\n",
    "            .option(\"header\", \"true\")\\\n",
    "            .load(path)\n",
    "\n",
    "        return df"
   ]
  },
  {
   "cell_type": "code",
   "execution_count": 62,
   "id": "e788274d-421d-47a9-911d-3ba9813b7609",
   "metadata": {},
   "outputs": [],
   "source": [
    "def write_data(df: DataFrame, path: str, write_delta_mode: str, format_file: str) -> str:\n",
    "        \"\"\"[Write data on format delta]\n",
    "\n",
    "        Args:\n",
    "            df (DataFrame): [Dataframe with data]\n",
    "            path (str): [data location path]\n",
    "            write_delta_mode (str): [append, overwrite]\n",
    "\n",
    "        Returns:\n",
    "            str: [Message after write]\n",
    "        \"\"\"        \n",
    "        df.write.mode(write_delta_mode)\\\n",
    "        .format(format_file)\\\n",
    "        .save(path)\n",
    "\n",
    "        return f\"Data saved successfully on -> {path}\""
   ]
  },
  {
   "cell_type": "markdown",
   "id": "da751193-fba8-4b3a-8afe-930ab4525390",
   "metadata": {},
   "source": [
    "## Lendo os dados da Landing [Users]"
   ]
  },
  {
   "cell_type": "code",
   "execution_count": 63,
   "id": "1389874f-0f86-4cd7-8479-9b659e25cada",
   "metadata": {},
   "outputs": [],
   "source": [
    "df = read_data(f\"../landing/user/*.json\", \"json\")"
   ]
  },
  {
   "cell_type": "markdown",
   "id": "fc322375-e51c-4aa5-ab6d-c6a19132526d",
   "metadata": {},
   "source": [
    "- Limitando as colunas para facilitar na visualização"
   ]
  },
  {
   "cell_type": "code",
   "execution_count": 64,
   "id": "18bdbd0a-1c67-4d5c-88ac-f09113511ed4",
   "metadata": {},
   "outputs": [],
   "source": [
    "df = df.select(\"user_id\",\"email\")"
   ]
  },
  {
   "cell_type": "markdown",
   "id": "adb4ca2b-d02d-40d1-8aa6-543a223f0e1e",
   "metadata": {},
   "source": [
    "- Verificando se as colunas estão corretas"
   ]
  },
  {
   "cell_type": "code",
   "execution_count": 72,
   "id": "24017b54-f896-4e5e-a519-8f176268cb4b",
   "metadata": {},
   "outputs": [
    {
     "data": {
      "text/html": [
       "<table border='1'>\n",
       "<tr><th>user_id</th><th>email</th></tr>\n",
       "<tr><td>1703</td><td>daron.bailey@emai...</td></tr>\n",
       "<tr><td>3650</td><td>jonah.barrows@ema...</td></tr>\n",
       "<tr><td>8809</td><td>carla.hansen@emai...</td></tr>\n",
       "<tr><td>4606</td><td>tomas.ledner@emai...</td></tr>\n",
       "<tr><td>1</td><td>alyse.ortiz@email...</td></tr>\n",
       "</table>\n",
       "only showing top 5 rows\n"
      ],
      "text/plain": [
       "+-------+--------------------+\n",
       "|user_id|               email|\n",
       "+-------+--------------------+\n",
       "|   1703|daron.bailey@emai...|\n",
       "|   3650|jonah.barrows@ema...|\n",
       "|   8809|carla.hansen@emai...|\n",
       "|   4606|tomas.ledner@emai...|\n",
       "|      1|alyse.ortiz@email...|\n",
       "+-------+--------------------+\n",
       "only showing top 5 rows"
      ]
     },
     "execution_count": 72,
     "metadata": {},
     "output_type": "execute_result"
    }
   ],
   "source": [
    "df"
   ]
  },
  {
   "cell_type": "markdown",
   "id": "5f51bf11-c3c9-4c04-a120-a71e7905c298",
   "metadata": {},
   "source": [
    "- Escrevendo os dados em formato delta com mode append"
   ]
  },
  {
   "cell_type": "code",
   "execution_count": 66,
   "id": "3f59ce55-f724-4496-b376-6b1b62ca1508",
   "metadata": {},
   "outputs": [
    {
     "data": {
      "text/plain": [
       "'Data saved successfully on -> ../delta/bronze/user/'"
      ]
     },
     "execution_count": 66,
     "metadata": {},
     "output_type": "execute_result"
    }
   ],
   "source": [
    "write_data(df, f\"../delta/bronze/user/\", \"append\", \"delta\")"
   ]
  },
  {
   "cell_type": "markdown",
   "id": "30c7084b-cab3-4d8d-9c19-03eed7102bff",
   "metadata": {},
   "source": [
    "## Cria novos dados para realização de Upserts"
   ]
  },
  {
   "cell_type": "markdown",
   "id": "dac79137-d1e0-4beb-b681-ee58a47ee9a7",
   "metadata": {},
   "source": [
    "- Obs: os Ids 1703 e 3650, existem no DataFrame lido diretamente da landing. O objetivo disso é que esses são os user_id que vão ter o email modificado"
   ]
  },
  {
   "cell_type": "code",
   "execution_count": 68,
   "id": "bee883d1-e175-4f57-8c69-879206c81e2d",
   "metadata": {},
   "outputs": [],
   "source": [
    "items = [(\"1703\",\"jpcarlos336@gmail.com\"), (\"3650\", \"carlos.barbosa@a3data.com.br\")]"
   ]
  },
  {
   "cell_type": "markdown",
   "id": "df0af1c2-2ff9-49b2-aa5c-48ceb69d6c21",
   "metadata": {},
   "source": [
    "- Herdando schema do DataFrame chamado na landing"
   ]
  },
  {
   "cell_type": "code",
   "execution_count": 70,
   "id": "a9c2c535-75c6-4b67-b703-cb3a7cedd042",
   "metadata": {},
   "outputs": [
    {
     "data": {
      "text/plain": [
       "['user_id', 'email']"
      ]
     },
     "execution_count": 70,
     "metadata": {},
     "output_type": "execute_result"
    }
   ],
   "source": [
    "cols = df.columns\n",
    "cols"
   ]
  },
  {
   "cell_type": "markdown",
   "id": "45ff363e-9ed9-43a8-9812-00d5a6cd8111",
   "metadata": {},
   "source": [
    "- Criando DataFrame a partir dos items e cols"
   ]
  },
  {
   "cell_type": "code",
   "execution_count": 71,
   "id": "faf0fca5-e26c-42b9-af11-eb01963b0635",
   "metadata": {},
   "outputs": [
    {
     "data": {
      "text/html": [
       "<table border='1'>\n",
       "<tr><th>user_id</th><th>email</th></tr>\n",
       "<tr><td>1703</td><td>jpcarlos336@gmail...</td></tr>\n",
       "<tr><td>3650</td><td>carlos.barbosa@a3...</td></tr>\n",
       "</table>\n"
      ],
      "text/plain": [
       "+-------+--------------------+\n",
       "|user_id|               email|\n",
       "+-------+--------------------+\n",
       "|   1703|jpcarlos336@gmail...|\n",
       "|   3650|carlos.barbosa@a3...|\n",
       "+-------+--------------------+"
      ]
     },
     "execution_count": 71,
     "metadata": {},
     "output_type": "execute_result"
    }
   ],
   "source": [
    "merge_table = spark.createDataFrame(items, cols)\n",
    "merge_table"
   ]
  },
  {
   "cell_type": "markdown",
   "id": "81da830d-ec7c-4cd1-bf2f-22903bab10c5",
   "metadata": {},
   "source": [
    "## Importando lib para acessar métodos do Delta"
   ]
  },
  {
   "cell_type": "code",
   "execution_count": 46,
   "id": "f6197b0e-8662-476f-b548-28ebb875a54a",
   "metadata": {},
   "outputs": [],
   "source": [
    "from delta.tables import *"
   ]
  },
  {
   "cell_type": "markdown",
   "id": "3bc452ee-c3b2-4ff4-b2be-9a8db821fc49",
   "metadata": {},
   "source": [
    "- Seleciona usuários que irão sofrer Updates"
   ]
  },
  {
   "cell_type": "code",
   "execution_count": 76,
   "id": "048661c6-eafd-4a0d-a79f-2b6253602594",
   "metadata": {},
   "outputs": [
    {
     "name": "stdout",
     "output_type": "stream",
     "text": [
      "+-------+-----------------------+\n",
      "|user_id|email                  |\n",
      "+-------+-----------------------+\n",
      "|1703   |daron.bailey@email.com |\n",
      "|3650   |jonah.barrows@email.com|\n",
      "+-------+-----------------------+\n",
      "\n"
     ]
    }
   ],
   "source": [
    "# DataFrame que vai sofrer atualização nos user_id (1703, 3650)\n",
    "df.where(\"user_id in (1703, 3650)\").show(truncate=False)"
   ]
  },
  {
   "cell_type": "code",
   "execution_count": 77,
   "id": "ef8a839c-c050-48bc-a02b-7bc2a87173b2",
   "metadata": {},
   "outputs": [
    {
     "name": "stdout",
     "output_type": "stream",
     "text": [
      "+-------+----------------------------+\n",
      "|user_id|email                       |\n",
      "+-------+----------------------------+\n",
      "|1703   |jpcarlos336@gmail.com       |\n",
      "|3650   |carlos.barbosa@a3data.com.br|\n",
      "+-------+----------------------------+\n",
      "\n"
     ]
    }
   ],
   "source": [
    "# Dados que irão atualizar o DataFrame acima\n",
    "merge_table.show(truncate=False)"
   ]
  },
  {
   "cell_type": "code",
   "execution_count": 78,
   "id": "cd676d35-afae-403d-86f1-cff283070aa6",
   "metadata": {},
   "outputs": [],
   "source": [
    "# Acessa a Tabela Delta Lake\n",
    "deltaTable = DeltaTable.forPath(spark, \"../delta/bronze/user\")"
   ]
  },
  {
   "cell_type": "code",
   "execution_count": 80,
   "id": "d197fc07-ff85-4816-91a7-82ccf373299e",
   "metadata": {},
   "outputs": [
    {
     "data": {
      "text/html": [
       "<table border='1'>\n",
       "<tr><th>version</th><th>timestamp</th><th>userId</th><th>userName</th><th>operation</th><th>operationParameters</th><th>job</th><th>notebook</th><th>clusterId</th><th>readVersion</th><th>isolationLevel</th><th>isBlindAppend</th><th>operationMetrics</th><th>userMetadata</th></tr>\n",
       "<tr><td>0</td><td>2021-07-20 13:41:22</td><td>null</td><td>null</td><td>WRITE</td><td>{mode -&gt; Append, ...</td><td>null</td><td>null</td><td>null</td><td>null</td><td>null</td><td>true</td><td>{numFiles -&gt; 6, n...</td><td>null</td></tr>\n",
       "</table>\n"
      ],
      "text/plain": [
       "+-------+-------------------+------+--------+---------+--------------------+----+--------+---------+-----------+--------------+-------------+--------------------+------------+\n",
       "|version|          timestamp|userId|userName|operation| operationParameters| job|notebook|clusterId|readVersion|isolationLevel|isBlindAppend|    operationMetrics|userMetadata|\n",
       "+-------+-------------------+------+--------+---------+--------------------+----+--------+---------+-----------+--------------+-------------+--------------------+------------+\n",
       "|      0|2021-07-20 13:41:22|  null|    null|    WRITE|{mode -> Append, ...|null|    null|     null|       null|          null|         true|{numFiles -> 6, n...|        null|\n",
       "+-------+-------------------+------+--------+---------+--------------------+----+--------+---------+-----------+--------------+-------------+--------------------+------------+"
      ]
     },
     "execution_count": 80,
     "metadata": {},
     "output_type": "execute_result"
    }
   ],
   "source": [
    "# Acessando os metadados das operações realizados no Delta Lake\n",
    "deltaTable.history()"
   ]
  },
  {
   "cell_type": "markdown",
   "id": "e94cec7f-f25e-4bfc-b8a3-06ee5352c120",
   "metadata": {},
   "source": [
    "- Realização do Merge no qual atualizamos o campo email para os user_id (1703, 3650)"
   ]
  },
  {
   "cell_type": "code",
   "execution_count": 81,
   "id": "f8eef6e1-2180-468f-9d69-6b79c809e260",
   "metadata": {},
   "outputs": [],
   "source": [
    "deltaTable.alias(\"deltaTable\") \\\n",
    "    .merge(merge_table.alias(\"updates\"),\"deltaTable.user_id = updates.user_id\") \\\n",
    "    .whenMatchedUpdateAll(condition = \"deltaTable.user_id = updates.user_id\" ) \\\n",
    "    .whenNotMatchedInsertAll() \\\n",
    "    .execute()"
   ]
  },
  {
   "cell_type": "code",
   "execution_count": 82,
   "id": "da0f6f64-7f36-46e0-9023-825a5e272d9c",
   "metadata": {},
   "outputs": [],
   "source": [
    "# Convertemos a Delta Table para Dataframe para visualizar a modificação\n",
    "delta = deltaTable.toDF()"
   ]
  },
  {
   "cell_type": "markdown",
   "id": "dc00789e-25eb-4f73-a565-1432ac324ea5",
   "metadata": {},
   "source": [
    "- Verificamos a mudança dos emails para os usuários."
   ]
  },
  {
   "cell_type": "code",
   "execution_count": 83,
   "id": "72c83c17-6c40-4333-812c-0e63ed7db404",
   "metadata": {},
   "outputs": [
    {
     "name": "stdout",
     "output_type": "stream",
     "text": [
      "+-------+----------------------------+\n",
      "|user_id|email                       |\n",
      "+-------+----------------------------+\n",
      "|1703   |jpcarlos336@gmail.com       |\n",
      "|3650   |carlos.barbosa@a3data.com.br|\n",
      "+-------+----------------------------+\n",
      "\n"
     ]
    }
   ],
   "source": [
    "delta.where(\"user_id in (1703, 3650)\").show(truncate=False)"
   ]
  },
  {
   "cell_type": "code",
   "execution_count": 85,
   "id": "187eca24-0997-49ad-86a0-a8a8c8d9f4d8",
   "metadata": {},
   "outputs": [
    {
     "name": "stdout",
     "output_type": "stream",
     "text": [
      "+-------+--------------------+\n",
      "|user_id|               email|\n",
      "+-------+--------------------+\n",
      "|   3395|marcos.collier@em...|\n",
      "|   1556|elina.hills@email...|\n",
      "|   1879|enedina.schroeder...|\n",
      "|   7805|colin.ryan@email.com|\n",
      "|   3982|dallas.boyle@emai...|\n",
      "|   7274|grover.towne@emai...|\n",
      "|   3184|dexter.schmitt@em...|\n",
      "|    550|novella.weber@ema...|\n",
      "|   8365|lesley.mccullough...|\n",
      "|   4942|marti.marks@email...|\n",
      "|   8327|shawnna.keebler@e...|\n",
      "|   9464|guillermo.beahan@...|\n",
      "|   4123|sid.bechtelar@ema...|\n",
      "|   2281|merrill.upton@ema...|\n",
      "|   6998|felipe.ward@email...|\n",
      "|   7440|willie.walsh@emai...|\n",
      "|   8397|jae.krajcik@email...|\n",
      "|   9437|wilfredo.bailey@e...|\n",
      "|   3148|josefa.marvin@ema...|\n",
      "|   2535|loyd.hintz@email.com|\n",
      "+-------+--------------------+\n",
      "only showing top 20 rows\n",
      "\n"
     ]
    }
   ],
   "source": [
    "# Exibindo dados completos\n",
    "delta.show()"
   ]
  }
 ],
 "metadata": {
  "kernelspec": {
   "display_name": "Python 3",
   "language": "python",
   "name": "python3"
  },
  "language_info": {
   "codemirror_mode": {
    "name": "ipython",
    "version": 3
   },
   "file_extension": ".py",
   "mimetype": "text/x-python",
   "name": "python",
   "nbconvert_exporter": "python",
   "pygments_lexer": "ipython3",
   "version": "3.9.1"
  }
 },
 "nbformat": 4,
 "nbformat_minor": 5
}
